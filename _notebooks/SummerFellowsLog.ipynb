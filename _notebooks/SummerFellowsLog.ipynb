{
 "cells": [
  {
   "cell_type": "markdown",
   "metadata": {},
   "source": [
    "# Summer Fellows Log\n",
    "### Student: Brian Barker\n",
    "### Advisor: Dr. Kassandra Martin-Wells"
   ]
  },
  {
   "cell_type": "markdown",
   "metadata": {},
   "source": [
    "## GDL Log"
   ]
  },
  {
   "cell_type": "markdown",
   "metadata": {},
   "source": [
    "### 2-18-2021\n",
    "- GDL reads things as $[COLUMN,ROW]$\n",
    "- GDL doesn't like reading the strings in from a file and putting them into an array\n",
    "    - I've tried reading everything into a list since lists can contain different data types, but no luck\n",
    "        - It seems to not like the strings\n",
    "    - I've had to hand-code the list of source names into the search program (Ref2.pro) and create a reference file with only floats and ints so that the program only has to read-in floats and ints, which it seems to be perfectly happy doing"
   ]
  },
  {
   "cell_type": "markdown",
   "metadata": {},
   "source": [
    "### 3-15-2021\n",
    "- I've found the read_csv function that will read everything in without any problems! Ref3.pro is now the working file\n",
    "    - It seems to be reading the csv as it's inverse\n",
    "    - Columns in the csv are being printed as rows in the program\n",
    "    - Need to format it to get it to associate each name with it's row of data"
   ]
  },
  {
   "cell_type": "markdown",
   "metadata": {},
   "source": [
    "### 3-16-2021\n",
    "- Success!! Now, the program should be completely flexible depending on how long the file is.\n",
    "    - With the read_csv function, it was much easier (after a bit of learning) to read-in strings alongside floats and ints\n",
    "    - This lets the file being read contain any number of entries without relying on a hand-coded list. Flexibility is key!\n",
    "\n",
    "- In addition to the read_csv function, I've also utilized the dialog_pickfile function\n",
    "    - This function pulls up a file browser window from which the user can pick their file\n",
    "    - This gets rid of dependance on code to tell the program where to look\n",
    "\n",
    "- I've started to look into how to get procedures called from other procedures\n",
    "    - I need to save the variables from one procedure and call them in another\n",
    "    - the save and restore functions are where I'm looking first\n",
    "\n",
    "- I need to start thinking about the overall structure of this library\n",
    "    - How will procedures link?\n",
    "    - Is it better to have one .pro file with a bunch of procedures in it? Or to have each procedure as its own .pro file?\n",
    "    - Can we be selective about which procedure we call either way? Or if they're all in one, does the whole .pro file have to run to get to one in the middle?"
   ]
  },
  {
   "cell_type": "markdown",
   "metadata": {},
   "source": [
    "### 3-18-2021\n",
    "- Trying to decide if I should have Timekeeping.pro be one procedure with multiple functions which I would have to figure out how to call from another procedure\n",
    "- Or if I should have Timekeeping.pro be multiple small procedures in one file\n",
    "\n",
    "\n",
    "- The pros of being in one procedure with multiple functions is that it won't have to compile a bazillion different procedures.\n",
    "    - The cons of being in one procedure with multiple functions is I don't know how to have it call a certain function inside another procedure\n",
    "- The pros of having multiple small procedures in one file is that it's easy to call a procedure and run it as a whole and just be done\n",
    "    - The cons of having multiple small procedures in one file is that each one has to compile and that prints to the screen. That's ugly. Also, it might print to any journal being used and that isn't information that should be saved."
   ]
  },
  {
   "cell_type": "markdown",
   "metadata": {},
   "source": [
    "### 3-20-2021\n",
    "- I've found the COMPLIE_OPT statement which can hide the \"% Compiled module: DECSUN.\" that is printed every time the procedure is run.\n",
    "- With this implemented, I can make the transisiton between library pieces look seamless\n",
    "- The COMPILE_OPT statement can be put anywhere in the procedure that is to have the print statement hidden. \n",
    "*Note: I can put it as the very last line, which tells me that GDL compiles the entire procedure before actually running it for the user. Makes sense, but this is a nice illustration.*\n",
    "- Now that I've found a way to hide the \"Compiled\" statement, I'm able to have multiple procedures in one file, but I need a way to call that whole file and then to call a procedure in it."
   ]
  },
  {
   "cell_type": "markdown",
   "metadata": {},
   "source": [
    "### 3-21-2021\n",
    "- It seems as though the FUNCTION funtion wasn't brought over from IDL, so I can't have Timekeeping.pro be one procedure with a bunch of functions\n",
    "- The next option would be to write each individual procedure as its own file and just have them all in the same directory that GDL reads from so they can all be called individually\n",
    "    - Isn't that messy though? the directory could potentially be filled with tons of .pro files\n",
    "    - Unless I specify a folder and the filepath to that folder and then tell it to look there every time I want to call something\n",
    "    - That would at least be a bit cleaner than an endless list of .pro files\n",
    "    - I could have a README.txt in the folder explaining the contents of the folder?\n"
   ]
  },
  {
   "cell_type": "markdown",
   "metadata": {},
   "source": [
    "### 3-22-2021\n",
    "- As of now, I'm working with the decision to proceed with multiple different files, each containing its own procedure\n",
    "- It's easy to call this way and if I need to change it, I'll copy and paste them all into one long file\n"
   ]
  },
  {
   "cell_type": "markdown",
   "metadata": {},
   "source": [
    "### 3-23-2021\n",
    "- I have to add an option at the end of the timekeeping procedures that lets the user start over right there if the want"
   ]
  },
  {
   "cell_type": "markdown",
   "metadata": {},
   "source": [
    "### 3-24-2021\n",
    "- Should I add an option at the end of each small procedure that allows the user to start over right there? Or keep it where it throws them to the beginnning every time for a fresh start?\n"
   ]
  },
  {
   "cell_type": "markdown",
   "metadata": {},
   "source": [
    "### 5-16-2021\n",
    "- Everything looks pretty good so far\n",
    "- The RA procedure seems to be wrong somehow?\n",
    "    - If today is the 136th day of the julian calendar, and it's been 57 days since the vernal equinox, shouldn't either mthod give me the same answer? Well, it isn't. \n",
    "- Ok, the problem was that it was printing the RA with an extra 24 hours slapped on there\n",
    "    - I added if statements that subtract 24 if the RA is above 24 and leaves it alone if it is below 24"
   ]
  },
  {
   "cell_type": "markdown",
   "metadata": {},
   "source": [
    "### 5-17-2021\n",
    "- I finished adding a range to the search function. The most recent version is now \"Ref4.pro\"\n",
    "- If statements seem to be doing the trick, but I keep running into a problem with how the results are displayed\n",
    "    - I've done a few tries before writing this, so I don't remember what made each error happen....I know, not best practices.\n",
    "        - At some point it said that it was trying to read heap variables\n",
    "        - At some point it was not showing the numbers between the search number and the top and bottom of the range. It would only show lower bound, search number and upper bound\n",
    "        - At some point it was doing the search corrrectly, but not showing all the matching results\n",
    "- The most recent version shows all the matching results and prints them mostly in order, but there are some that are placed out of order. It doesn't omit results anymore (that I've seen), it just scrambles a few of them.\n",
    "    - I want to say it has something to do with the order of my if statements, but I have the order right for most of the results, so what is it about these specific ones that are making them appear in the wrong place?\n",
    "- Another option is being looked at in \"Testing.pro\"\n",
    "    - If I add the results to a list, I can get them to print out in a way that is a bit more spread out. It involves scrolling through results, which may not be good for big result pools, but it is a bit easier to discern what info goes with which source this way. Also, it's all in a list so it should be easier to deal with down the road."
   ]
  },
  {
   "cell_type": "markdown",
   "metadata": {},
   "source": [
    "### 5-18-2021\n",
    "- The next thing I want to do is make a search feature that allows the user to pick a date and time of observation and the procedure provides a list of sources that will be overhead\n",
    "    - Should I give all sources down to the horizon?\n",
    "    - Should I allow for a range so the user can specify some window? Maybe an Declination window? Maybe an RA window? Both would be the most thourough"
   ]
  },
  {
   "cell_type": "markdown",
   "metadata": {},
   "source": [
    "### 5-24-2021\n",
    "- I've put everything into one big .pro file so there is no longer any calling of different .pro files\n",
    "- It seems to be working well constructed with some if statements just like the menu options within each of the individual .pro files\n",
    "- To make it better, I need to make the month and date correspond so that the user can't pick a day of a month that doesn't exist (i.e. the 30th or 31st)"
   ]
  },
  {
   "cell_type": "markdown",
   "metadata": {},
   "source": [
    "### 5-25-2021\n",
    "- I've gone through and commented everything in the master file.\n",
    "- During the comment adding process, I added some repeats and changed a few things, so I need to test to make sure the procedure still works properly\n",
    "- I need to finish the Observation Time and Date search feature. It is only to the point where it displays the RA hour on the East and West Horizon. I need to have it so the procedure then uses those results to search through the .CSV file if the user wants."
   ]
  },
  {
   "cell_type": "markdown",
   "metadata": {},
   "source": [
    "### 6-4-2021\n",
    "- The Time and Date search option is nearly done. I have it to the point where the procedure will display the RAh that is on the east and west of the horizon\n",
    "- Next step is to have it go through the list of sources and display the ones that fit between the RAh on the east and west so that the user knows what is above them on any given day or night to better plan observations"
   ]
  },
  {
   "cell_type": "markdown",
   "metadata": {},
   "source": [
    "### 6-8-2021\r\n",
    "- Working on the end of the Time and Date search today. My idea is to just copy the prodecure from the RA search and just use the LST and a range of +/- 6 instead of having the user input stuff. That should make it search through the list of sources to find what is in the sky\r\n",
    "- When I copy and paste the entire RA search section, it gets hung up on the very last endrep command and I don't know why. The original master.pro works just fine so I know the section of code I'm using works, which tells me this is probably a copy and paste issue. I'll go through and piecemeal the RA search as I copy and paste so that I can better track where the error came from\r\n",
    "- It gets hung up on an endif command as I piecemeal it. -- Solved: Indentation issue\r\n",
    "- Everything compiles properly now, but my calculations are wrong somehow. I've only done the No Daylight Saving Time option, so I'm going to put in the Daylight Saving Time option search and then I'll work on the calculations.\r\n",
    "- It will calculate the RA of the Mean Sun properly and from what I see, it's finding the HA of the Mean Sun correctly, so I think the problem of having an extra hour in my LST is coming from my MST -> DST conversion\r\n",
    "- It doesn't print any results even though I know there are matching results\r\n",
    "- I've created two files for testing new additions to the master.pro file. Testing_1.pro and Testing_2.pro are both exact copies of the Master.pro file, but with \"quarantined\" sections that contain the new additions to be tested. Testing_1.pro is the beginning of having the procedure display the sources that are between the East and West horizon RA Hours (RAh). As of now, Master.pro will only display the RAh on the East and West horizon and the user is then tasked with writing those numbers down and using the .CSV search feature to get their own list. I want it to all happen for the user so right after it displays the RAh on the EAst and West horizon, it should display the matching sources from the .CSV file of the users choice in the same format as the search procedure in the first Home Menu option. Testing_2.pro is the beginning of having more calculations added to the procedure. I want telescope related calculations like angular resolution, focal length, focal ratio, etc. In \"Modern Astrophysics\" by Bradley Carroll and Dale Ostile, Chapter 6 will be a good guide for what will be useful to calculate."
   ]
  },
  {
   "cell_type": "markdown",
   "metadata": {},
   "source": [
    "### 6-9-2021\n",
    "- I've moved the telescope calculations up in priority so that there is more substance in the code.\n",
    "- The master.pro file is now ready to show Kassie and if everything goes well, ready for delivery\n",
    "- There is still a testing_1.pro file that has the structure for the end of the time and date search, but that is just an addition at this point. From what I see, master.pro is fully functional at this point and is ready to accept testing_1.pro additions once they are worked out.\n",
    "- On a personal note. I am so proud of the coding that I've done. It's nothing crazy, but it is completely mine and that is something to be proud of. Sometimes the things we struggle on the most are the most rewarding. "
   ]
  },
  {
   "cell_type": "markdown",
   "metadata": {},
   "source": [
    "### 6-10-2021\n",
    "- Finished my check-in with Kassie and she says she is happy with how it looks! There are a few minor things that need changing or adding, but I don't need to make anything new and that's awesome!\n",
    "- These are the things Kassie and I identified as needing to be addressed before it's totally done:\n",
    "    - print the results of every search to a file for display instead of on screen. Easier for the user to deal with long lists\n",
    "    - check the angle of incidence in snells law to make sure that it is reading the variable as a float and not an integer\n",
    "    - make an overleaf version of the math that is in the code\n",
    "        - Try to include as much as possible. I'm down for derivations if needed.\n",
    "    - change \"Hour\" in the time and date search so say \"Time\" \n",
    "        - give user an example: 10:30am = 10.5 and 10:30pm = 22.5\n",
    "    - Write a map of the procedure architecture for future users\n",
    "        - give user examples for when to use the things that are calculated\n",
    "- The last thing we talked about was putting this all into python as well. It would be a great personal project, but would be even better for summer fellow. No pressure, though. The GDL is the important part."
   ]
  },
  {
   "cell_type": "markdown",
   "metadata": {},
   "source": [
    "### 6-16-2021\r\n",
    "- I've made pretty good progress starting the GDL Guide. I'm having trouble figuring out what is too much detail and what isn't so I'm hoping that works itself out the more I write."
   ]
  },
  {
   "cell_type": "markdown",
   "metadata": {},
   "source": [
    "### 6-17-2021\r\n",
    "- The GDL Guide is almost done. I spent the day finishing the majority of the body and starting the install instructions section.\r\n",
    "    - Everything is different since I installed it during Astro, so I had to re-learn how to install GDL. That worries me for how applicable this guide will be in just a single year. But onwards I go. If nothing else, they can still use the rest of the guide for how to write in GDL\r\n",
    "    - It's late and I think I've done all I can except for the Mac stuff. I'll talk to kassie about that tomorrow. It looks great, though."
   ]
  },
  {
   "cell_type": "markdown",
   "metadata": {},
   "source": [
    "### 6-22-2021\r\n",
    "- I got the IDL Virtual Machine working on my laptop today. It won't open a file where I simply change the extension to .sav, so I'm going to have to figure out what I'm doing wrong so I can try the GDL stuff with it.\r\n",
    "- It now seems that the Virtual Machine isn't working. I may have spoken too soon in the previous bullet point.\r\n",
    "    - When I try to open a .sav file, it comes up with an error: \"Attempt to call undefined function: 'CONGRID'\"\r\n",
    "    - I don't know what that means, but it happens no matter which .sav file I try.\r\n",
    "    - I downloaded some NASA supplied Astro-related IDL code which, frankly, look exactly like GDL files just with a different file extension. They wouldn't work in the VIrtual Machine either, so I have hope that I might still be able to just change the file extension from .pro to .sav once I get the Virtual Machine to run properly"
   ]
  },
  {
   "cell_type": "markdown",
   "metadata": {},
   "source": [
    "### 6-25-2021\r\n",
    "- I think my problem with getting the IDL Virtual Machine running is that nothing is saved properly. I don't think just changing the file extension will work. I think it needs to be saved using the SAVE procedure, which I can't get to run since the VM won't open.\r\n",
    "- I can't use the command line either, because it's telling me I'm having a licensing issue which leads me to believe that the command line is tied to the full version and not the VM\r\n",
    "- I'll ask Kassie what her experience is with the command line.\r\n",
    "    - Is Kassie using it on the machine that has the full version on it?\r\n",
    "    - Is Kassie using the SAVE procedure when using a .pro file?\r\n",
    "    - Is Kassie even using command line?\r\n",
    "    - Ask for a file that is verified to work on Kassie's machine.\r\n",
    "\r\n",
    "- Ok Kassie is going to send me a .sav that is working for her to make sure I can at least run something through the VM. The problem is that if you only have the VM on your machine, you can't create a .sav file, you can only run them. So Kassie will have to convert all the .pro files to .sav. Another reason why making one Master file instead fo multiple small ones is better. Less converting."
   ]
  },
  {
   "cell_type": "markdown",
   "metadata": {},
   "source": [
    "## Come Back to This Later"
   ]
  },
  {
   "cell_type": "markdown",
   "metadata": {},
   "source": [
    "\n",
    "- Try using READF/READS instead of READ_CSV to bring the data in?\n",
    "- Should I just use the raspberry-pi as the observatory machine? Just load the procedures on there and whoever needs it, can use it. GDL has a Debian port. It'll be a donation from me to the Physics department. It's portable so there isn't a need to bring a full machine anywhere. \n",
    "- Sarah Marchione wants to help if needed\n",
    "- Put together a GDL handbook for students in the future? There are already ones available, so what can I provide that's different?\n",
    "- Possible \"This is where we used to be\" with older equipment and \"This is where we are now\" with new stuff\n",
    "- Translate this all into python and test your skills"
   ]
  },
  {
   "cell_type": "markdown",
   "metadata": {},
   "source": [
    "## General Observatory Tasks"
   ]
  },
  {
   "cell_type": "markdown",
   "metadata": {},
   "source": [
    "\r\n",
    "- Clean Bay 1\r\n",
    "    - Sweeped\r\n",
    "- Clean Bay 2\r\n",
    "    - Sweeped\r\n",
    "- Clean Bay 3\r\n",
    "    - Sweeped\r\n",
    "- Clean Bay 4\r\n",
    "    - Sweeped\r\n",
    "- Check electricity\r\n",
    "    - Bays 1 & 2 have no power to the outlets\r\n",
    "    - Bays 3 & 4 have full power to the outlets\r\n",
    "- Bring extension cord\r\n",
    "- Catalog the boxes of accessories in the nook by the stairs to the roof - DONE\r\n",
    "- Clean out wasp nests\r\n",
    "- Need swiffer wipes for dust on outside of scopes \r\n",
    "- Closing Procedure written up - DONE\r\n",
    "- Lab ideas with equipment\r\n",
    "- Clean Scope 1\r\n",
    "- Clean Scope 2\r\n",
    "- Clean Scope 3\r\n",
    "    - Missing outer ring on corrector lens, dust and pollen has gotten into the OTA\r\n",
    "    - Cleaned\r\n",
    "- Clean Scope 4\r\n",
    "- Names for Star Parties:\r\n",
    "    - Ursinus Under the Stars\r\n",
    "    - Ursas Under the Stars\r\n",
    "    - Bears Under the Stars"
   ]
  },
  {
   "cell_type": "markdown",
   "metadata": {},
   "source": [
    "## Observatory Log\n"
   ]
  },
  {
   "cell_type": "markdown",
   "metadata": {},
   "source": [
    "### 3-16-2021\n",
    "- Need to figure out what's going on with each scope\n",
    "- I need to get keys and get in there"
   ]
  },
  {
   "cell_type": "markdown",
   "metadata": {},
   "source": [
    "### 4-7-2021\n",
    "- Went up with Kassie and checked power. Bays 1,2 have no power and Bays 3,4 have power\n",
    "- Knock the wasp nests out BEFORE they start using them for the year\n",
    "- Need to get some light up there\n",
    "- A timelapse of cleaning each bay would be awesome\n",
    "    - At least progression pics for the pre-summer and post-summer presentations"
   ]
  },
  {
   "cell_type": "markdown",
   "metadata": {},
   "source": [
    "### 4-14-2021\n",
    "- Went up and cleaned for about 3 hours\n",
    "    - Swept all the bays and the walkway connecting them\n",
    "- Still needs to be vacuumed to get the dust and dirt that my broom and dust pan couldn't\n",
    "    - Shop-vac\n",
    "    - Or as we take each scope down to inspect it, we use the opportunity to spray down the bay that the scope was in\n",
    "- Knocked down a few wasp nests but there are still a few there\n",
    "- Bay 4 leaks\n",
    "    - There is a leak in the roof door seam and water drips down to the floor below\n",
    "    - Not sure if it drips on the telescope at all since it didn't rain too much, but heavier rain might be worse\n",
    "    - A leg of the telescope in Bay 4 is rusting from the splashes of water from the roof\n",
    "- Outlets in Bay 1 & 2 still don't work\n",
    "- Footlights in Bay 1 & 2 work\n",
    "- Footlights in Bay 3 & 4 do not work\n"
   ]
  },
  {
   "cell_type": "markdown",
   "metadata": {},
   "source": [
    "### 5-6-2021\n",
    "- Went up and sprayed the wasp and yellow-jacket nests\n",
    "    - I should go up with the shop-vac soon before they come back\n",
    "- Start a supply list\n",
    "    "
   ]
  },
  {
   "cell_type": "markdown",
   "metadata": {
    "jupyter": {
     "source_hidden": true
    },
    "tags": []
   },
   "source": [
    "<img src=\"Floor Spot 1.jpg\" width=\"300\">\n",
    "\n",
    "<img src=\"Floor Spot Flash Landscape.jpg\" width=\"300\">\n",
    "\n",
    "<img src=\"Floor Spot Side.jpg\" width=\"300\">\n",
    "\n",
    "<img src=\"Rusted Leg With Floor Spot.jpg\" width=\"300\">\n",
    "\n",
    "<img src=\"Splashes On Leg.jpg\" width=\"300\">\n",
    "\n",
    "<img src=\"Roof Leak Drip.jpg\" width=\"300\">\n",
    "\n",
    "<img src=\"Roof Leak Drip 2.jpg\" width=\"300\">\n"
   ]
  },
  {
   "cell_type": "markdown",
   "metadata": {},
   "source": [
    "### 6-1-2021\n",
    "### Bay 1\n",
    "- The power light didnt turn on at first, but now it does. Do they just need a second to warm up?\n",
    "    - The DC adapter port is not making a solid connection. It needs to be rotated in the port to make a good connection for power. \n",
    "- One of the Autostar controllers doesn't work in Bay 1. Will test on other scopes to see if it's the controller or the scope\n",
    "    - It says \"Flash Memory Error\" on the LCD screen\n",
    "    - https://www.cloudynights.com/topic/385012-audiostar-upgrade-problem/ <---- Forum about updating firmware\n",
    "- Diameter 254 mm - 10 inch\n",
    "- Focal length 2500 mm - f/10\n",
    "- Motor works with manual control from the AutoStar\n",
    "- The optics work on the scope\n",
    "- All AutoStar controllers work on Telescope 1\n",
    "\n",
    "\n",
    "### Bay 2\n",
    "- The roof won't stay open in Bay 2 more than about a foot. If opened more than a foot, it rolls closed on it's own\n",
    "    - Are the rollers too easy to move? Is there a mechanism that keeps it open that isn't working? Is the roof too slanted?\n",
    "- There is some water leaking from the roof seam in Bay 2. It rained all weekend, but the drips of water have been happening for about an hour and a half now\n",
    "    - It almost seems like there's a constant supply of water leading to the roof. I think it's coming from the sealed, black seams on the outside of the doors. It looks like there is foam under the sealant that was used and it might be coming from the foam. Right now, the working idea is that there is a hole in the sealant and water is able to soak into the foam, which provides a place from which the water can drip out even if there isn't active rain.\n",
    "    - I just got dripped on and the water is warm which means it's been sitting in the sun all day, so I'm guessing there is a hole in the sealant\n",
    "    - This might be the same problem as the leak in Bay 4. I'll investigate it when I get to that bay.\n",
    "- The power adapter is working on scope 2\n",
    "- Motor works with manual control from the AutoStar\n",
    "- The optics work on the scope\n",
    "- The AutoStar controller has a wonky screen, but it mostly displays the correct info\n",
    "- Diameter 355.6 mm - 14 inches\n",
    "- Focal Length 3556 mm - f/10\n",
    "\n",
    "\n",
    "### Bay 3\n",
    "- Roof door doesn't stay open all the way on its own, but there is a pipe right under the pulley that the chain can be wrapped around to keep it in place\n",
    "    - Has to be wrapped twice or the door is still able to roll closed\n",
    "- Roof leaks during rain\n",
    "- Motor works with manual control from the AutoStar\n",
    "- The optics work on the scope\n",
    "- There is no outer ring on the front of the optical tube. Bays 1 and 2 have both had rings with diameter and focal length at the top of the optical tube right under the dust cover (14 inches, I think)\n",
    "\n",
    "\n",
    "### Bay 4\n",
    "- Door has trouble staying open on its own\n",
    "- The optics work on the scope\n",
    "- Motor works with manual control from the AutoStar\n",
    "- Diameter 355.6 mm - 14 inches\n",
    "- Focal Length 3556 mm - f/10\n",
    "\n",
    "## For Tomorrow:\n",
    "- Swiffer wipes for dust on surfaces\n",
    "- Finish cleaning wasp nests"
   ]
  },
  {
   "cell_type": "markdown",
   "metadata": {},
   "source": [
    "### 6-2-2021\n",
    "- Starting the nook boxes today\n",
    "\n",
    "    - Inventory List: Box 1\n",
    "        - 10 plastic spectrometers\n",
    "            - Need to be calibrated, but all are very close.\n",
    "        - 2 functional serial cables\n",
    "            - 1 with broken tabs\n",
    "        - 1 RadioShack Switching Power Supply\n",
    "        - 1 AutoStar Suite CD\n",
    "        - 1 TPoint Telescope Pointing Analysis Software\n",
    "        - 3 Gigaware Driver CDs for 6ft USB-A to Serial cable\n",
    "        - 2 Santa Barbara Insrument Group Software and Catalog CD\n",
    "        - 1 Optec, Inc Install CD for manuals and control programs\n",
    "        - 1 Dew Heating Band\n",
    "        - 1 5 oz container of metal polish\n",
    "        - 1 Meade eyepiece case with no eyepiece\n",
    "        - 1 JMI Motofocus motorized scope focuser, not sure which scope it goes to. The JMI website didn't have any exactly matching pictures of products.\n",
    "            - http://www.jimsmobile.com/buy_motofocus.htm\n",
    "        - 1 Kendrick Astro Instruments DigiFire 10 Dew Band controller\n",
    "            - Discontinued by company\n",
    "            - https://www.kendrickastro.com/heaterfaq.html  <----- Has the manual for the controller\n",
    "        - 1 Unknown sliding counter-weight\n",
    "        - 1 EMP 12V wall adapter\n",
    "\n",
    "    - Inventory List: Box 2\n",
    "        - 1 Solar Filter - 10 inch\n",
    "        - 1 Thousand Oaks Optical Red Filter and Aperture Stop - 10 inch\n",
    "        - 1 TelRad Reflex sight with mount\n",
    "        - 2 Meade Series 4000 f/6.3 Focal Reducer/Field Flattener in case\n",
    "        - 2 Meade finderscopes/handscopes 8 x 50 mm (Blue)\n",
    "        - 2 No-name finderscopes (Black)\n",
    "        - 1 Baader RGB CCD-Filter - Red - 1.25 inch\n",
    "        - 1 Baader RGB CCD-Filter - Green - 1.25 inch\n",
    "        - 1 Baader RGB CCD-Filter - Blue - 1.25 inch\n",
    "        - 1 Baader UV/IR-Cut / L Filter - 1.25 inch\n",
    "        - 1 Baader Clear Focusing Filter - 1.25 inch\n",
    "        - 2 lens cleaning pens\n",
    "        - 2 Orion UltraBlock SkyGlow Light Pollution Filter\n",
    "        - 1 Edmund Scientific RKE 28mm eyepiece - 1.25 inch\n",
    "        - 1 No-name finderscope eyepiece with crosshairs - 1.25 inch\n",
    "        - 1 Celestron 7mm Ortho eyepiece - 1.25 inch\n",
    "        - 1 Meade Series 4000 Filter #25A Red Filter\n",
    "        - 1 Meade Series 4000 Filter #82A Light Blue Filter\n",
    "        - 1 O ring\n",
    "        - 1 Meade lens cover\n",
    "        - 1 unknown metal collar, possibly for eyepieces\n",
    "        - 1 Orion 10.5mm Lanthanum coated eyepiece\n",
    "        - 1 Orion Moon Filter 1.25 inch\n",
    "        - 1 DayStar T-Scanner Hydrogen Apha Filter\n",
    "            - Discontinued by manufacturer\n",
    "        - 1 Orion EZ Finder\n",
    "        - 1 Data-Vac Micro Cleaning Tool Kit\n",
    "    \n",
    "    - Inventory List: Box 3\n",
    "        - 2 large counterweights\n",
    "        - 4 medium counterweights\n",
    "        - 2 small counterweights\n",
    "        - 1 optical slit - 10 microns\n",
    "        - 1 bag of small screws and washers\n",
    "\n",
    "    - Inventory List: Box 4\n",
    "        - 1 CFW-8 Color Filter Wheel Manual for CCD cameras\n",
    "        - 1 CFW-9 Color Filter Wheen Manual for CCD cameras\n",
    "        - 1 page of handwritten notes about the scopes, yellow paper\n",
    "        - 1 TCF-S Temp Compensating Focuser Manual\n",
    "        - 2 Meade LX200 Telescope Manual\n",
    "        - 1 Meade RCX400 Telescope Manual\n",
    "        - 1 Service invoice for LX200 10 inch, pink paper\n",
    "        - 1 Meade RCX400 Focuser Disassemby, Repair and Reassembly write-up by Gene Mroz in March 2008\n",
    "        - 1 Santa Barbara Instrument Group Manual for Self Guided Spectrograph and Spectra Analysis Software\n",
    "        - 1 Santa Barbara Instrument Group Manual for CCD Camera\n",
    "        - 1 Meade Operating Instruction handout for WIRELESS AutoStar Handbox\n",
    "        - 1 Meade LPI Camera Program Manual, Blue binder\n",
    "        - 1 Galileo Mission at Jupiter plastic sheet with photographic slides\n",
    "        - 1 unknown power cord, possibly to telescope power adapter\n",
    "        - 1 Comets: Fall 1997 Edition plastic box with photographic slides of Solar System\n",
    "        - 1 Comets: A Biannual Subsctription plastic box with photographic slides of Solar System\n",
    "\n",
    "    - Inventory List: Box 5\n",
    "        - 2 Meade AutoStar Suite Lunar Planetary Imager (LPI)\n",
    "        - 1 Optec 2 inch Focuser with Integrated Circuit, Power Supply and Temperature Probe\n",
    "        - 1 Binolux binoculars 7x35 (leather case)\n",
    "        - 1 Connector Cable (507) set for LX200\n",
    "        - 7 Celestron Outland LX Waterproof binoculars\n",
    "        - 2 Celestron Manuals for use and care"
   ]
  },
  {
   "cell_type": "markdown",
   "metadata": {},
   "source": [
    "### 6-3-2021\n",
    "- Dusted the surfaces of the scopes and the handrails\n",
    "\n",
    "- Inventory List: Box 6\n",
    "- 1 Olympus OM-1 35mm Camera with no lens, but a lens case\n",
    "- 2 Binolux binoculars 7x35 (leather case)\n",
    "- 1 USB-A to USB-B cable\n",
    "- 1 Wooden Box:\n",
    "    - 2 Meade diagonal mirrors\n",
    "    - 1 Celestron diagonal mirror\n",
    "    - 1 Celestron 12.5mm Ocular Reticle eyepiece (out of alignment?)\n",
    "    - 1 Edmund Scientific RKE 8mm eyepiece\n",
    "    - 1 Edmund Scientific RKE 15mm eyepiece (NO LENS, JUST HOUSING)\n",
    "- 2 Meade Accessory Kits for LX200 (big, white boxes):\n",
    "    - 1 handscope in each box\n",
    "- 2 Meade Filter and Eyepiece Boxes (long, blue and white boxes):\n",
    "    - Box A:\n",
    "        - 1 Celestron Eyepiece Filter Set 1.25 inch\n",
    "        - 1 lens assembly for Olympus 35mm Camera\n",
    "        - 2 Meade Color Filter Set (RGB & Clear)\n",
    "        - 1 Orion EZ Finder Reflex sight\n",
    "        - 2 Orion Variable Polarizer 1.25 inch\n",
    "        - 1 Orion Moon FIlter 1.25 inch\n",
    "        - 5 Orion SkyGlow SC RC Broadband Filters for lgiht pollution\n",
    "        - 2 Orion UltraBlock SkyGlow Filters for light pollution\n",
    "        - 1 Meade 5 Element Plossl Eyepiece 26mm\n",
    "        - 3 Orion Shorty Barlow Lens 1.25 inch\n",
    "        - 1 Meade Series 4000 Filter #47 Blue Filter\n",
    "        - 1 Meade Series 4000 Filter #11 Green Filter\n",
    "        - 1 Unknown gray filter (moon filter?)\n",
    "        - 1 Orion 12mm KE Illuminated Reticle\n",
    "        - 1 Orion Lanthanum 10.5mm eyepiece\n",
    "        - 1 Meade Super Plossl 32mm eyepiece\n",
    "        - 1 Meade Super Plossl 26mm eyepiece \n",
    "        \n",
    "    - Box B:\n",
    "        - Various lens caps, metal collars and mounts\n",
    "\n",
    "- Box C:\n",
    "    - Allen Wrenches\n",
    "    - Screws\n",
    "    - 2 Cable Release for camera 20 inch\n",
    "\n",
    "- Box D:\n",
    "    - 1 Meade Universal AC Adapter\n",
    "\n",
    "- Inventory List: Box 7\n",
    "    - Box A:\n",
    "        - 2 Santa Barbara Instrument Group CFW-8 Color Filter Wheel\n",
    "        - 1 Meade AutoStar II Handbox\n",
    "        - 2 USB-A to USB-B\n",
    "        - 1 Santa Barbara Instrument Group backplate for ST-7XE CCD camera\n",
    "        - 2 loose mounting brackets for lens onto CCD camera\n",
    "    - 1 Santa Barbara Instrument Group ST-7XE CCD Camera\n",
    "        - http://www.company7.com/library/sbig/pdffiles/cat_7xme.pdf\n",
    "    - 1 Santa Barbara Instrument Group ST-8XME CCD Camera with CFW-9 Color Filter Wheel attached\n",
    "        - https://diffractionlimited.com/wp-content/uploads/2016/03/Spectrograph-SGS5.pdf\n",
    "    - 1 sheet black felt\n",
    "    - 1 Isobar Ultra Isolated Surge Suppressor\n",
    "    - 3 GlobTek I.T.E. Power Supply\n",
    "    - 1 Santa Barbara Instrument Group Self Guided Spectrograph with ST-7XE CCD Camera and Meade Series 4000 f/6.3 Focal Reducer/Field Flattener attached\n",
    "\n",
    "- Inventory List: Box 8 \n",
    "    - 1 Optec SSP-3 Photometer with data cable and power cable\n",
    "\n",
    "- Inventory List: Box 9\n",
    "    - 1 Meade 507 Connector cable with adapter\n",
    "    - 3 Dell laptops\n",
    "    - 6 charging cables for laptops\n",
    "    - 1 LogiTech wired mouse\n",
    "    - 1 Optec Remote Keypad for manual focusing control\n",
    "    - 1 gray Cat5 cable\n",
    "    - 1 Gigaware 6ft USB-A to Serial cable\n",
    "    - 2 USB-A male to USB-B male 6ft cable\n",
    "    - 1 orange Cat5 cable\n",
    "    - 1 USB-A male to USB-A female cable\n",
    "\n",
    "- Inventory List: Box 10\n",
    "    - Silver Meade Box:\n",
    "        - 1 Meade super plossl eyepiece 20mm\n",
    "        - 1 Celestron Kellner 40mm eyepiece 1.25 inch\n",
    "        - 1 Meade super plossl eyepiece 15mm\n",
    "        - 1 Meade super plossl eyepiece 40mm\n",
    "        - 1 Meade super plossl eyepiece 12.4mm\n",
    "        - 2 Meade super plossl eyepiece 26mm\n",
    "        - 1 Meade super plossl eyepiece 9.7mm\n",
    "        - 1 Meade super plossl eyepiece 6.4mm\n",
    "    - 2 Meade Vibration Isolation Pad Kits (one full set, and one box with only 1 pad)\n",
    "    - 5 Orion empty accessory cases\n",
    "    - 1 Orion Accessory Case:\n",
    "        - 4 Orion 25mm Lanthanum eyepiece\n",
    "        - 2 Orion 10.5 Lanthanum eyepiece\n",
    "        - 1 Unknown reticle eyepiece\n",
    "        - 1 Celestron 3x Barlow Lens\n",
    "    - 4 Meade AutoStar II Wireless Handbox\n",
    "\n",
    "- Inventory List: Box 11\n",
    "    - 1 Santa Barbara Instrument Group ST-7XE CCD Camera\n",
    "        - http://www.company7.com/library/sbig/pdffiles/cat_7xme.pdf\n",
    "    - 1 Santa Barbara Instrument Group ST-2000XCM CCD camera\n",
    "    - 1 Santa Barbara Instrument Group AO-7 Adaptive Optics System\n",
    "\n",
    "- 3 Empty black cases that seem to be for the CCD cameras\n",
    "\n",
    "- 1 box of various cables and cords\n",
    "    - This box is a disaster. It's just a knot of wire"
   ]
  },
  {
   "cell_type": "markdown",
   "metadata": {},
   "source": [
    "### 6-15-2021\r\n",
    "- eyepiece and filter cleaning\r\n",
    "- telescope cleaning\r\n",
    "\r\n",
    "- aluminum foil or printer paper for cleaning surface\r\n",
    "- short bursts with canned air\r\n",
    "- only one swipe per tissue spot\r\n",
    "- try air first before using tissues. Less wiping is better\r\n",
    "- folding the tissue is key to getting it not to fold as we press down\r\n",
    "\r\n",
    "\r\n",
    "\r\n",
    "\r\n",
    "- Short Term Things To Do:\r\n",
    "    - Clean eyepieces\r\n",
    "    - Clean Filters\r\n",
    "    - Organize Boxes\r\n",
    "    - Master.pro architecture map with explainations or what can be done with each piece\r\n",
    "    - Blinds for windows between hallway and bays\r\n",
    "    - Red light bulbs\r\n",
    "    - Door stops to keep doors open if I can't get a key that allows them to stay unlocked\r\n",
    "        - I can make door stops. There are max 5 doors that need to stay open at once during a star party. I'm thinking simple right triangles that have a 1/4 inch hole close to the short leg of the triangle with a rope or twine through it. Next to each of the doors is a command strip hook that the door stops can be hugn on. If the door is closed, there should be a door stop hanging next to it. If the door is open for extended periods there shouldn't be a door stop hanging next to it.\r\n",
    "    - Should I physically label a whole scope? For educational purposes. So Kassie can actually take students to a physical telescope to show the anatomy\r\n",
    "\r\n",
    "\r\n",
    "\r\n",
    "- Long Term Things To Do:\r\n",
    "    - Take apart RCX400\r\n",
    "        - Learn about the assembly and disassembly process\r\n",
    "        - Label every single screw\r\n",
    "        - Clean the glass and the mirrors\r\n",
    "    - GDL Guide\r\n",
    "\r\n",
    "- Ross and I took the RCX400 off the mount and put it in the hallway. That's the one I'll be working on inside the tube. It will be a learning experience for me"
   ]
  },
  {
   "cell_type": "markdown",
   "metadata": {},
   "source": [
    "### 6-16-2021\r\n",
    "- Most of the cleaning supplies are here, save for the lens cleaning tissue\r\n",
    "- Ross will be in on Friday this week to show me more about how to clean. Since the lens tissue isn't here yet, we will try to use the Handi-Pads that we have.\r\n",
    "- We will work on the RCX400 so when ross is away, I'll be able to keep working."
   ]
  },
  {
   "cell_type": "markdown",
   "metadata": {},
   "source": [
    "### 6-18-2021\r\n",
    "- Starting the RCX400 today. Also showing Kassie the GDL Guide.\r\n",
    "- I want to see if I can get a timelaspe video of part of the disassembly process. At least progression pictures along the way. I want it so that the next person doesn't have to search the internet for the very few resources that are available for RCX400 disassembly. The best walkthrough that I found was made by two French guys on a 12 inch, so I'm hoping that it's essentially the same thing but bigger.\r\n",
    "- It went pretty well! The only snag was taking the glass off the front, but I just wasn't pulling hard enough. Ross got it. It's all back together and cleaned now!"
   ]
  },
  {
   "cell_type": "markdown",
   "metadata": {},
   "source": [
    "### 6-21-2021\r\n",
    "- Testing the 10-inch today. There is a big focusing issue. I have a feeling it's because there is an autofocus attachment on there, but I need to find the original adapter for the rear call port. Oh. It the focuser was attached to the rear port cell bracket, so it just needed to come off the focuser and put back on the scope so it can accept an eyepiece\r\n",
    "- The power is wishy-washy on the 10-inch. I had it on for a second, but as soon as the power cord is moved, it doesn't make a connnection. The cord works on the RCX400, so it tells me that the port on the 10-inch might be messed up. The cord could also use replacing since even in the RCX400, it didn't make a stable connection the entire time. But even though the wire is on its way out, I think the port on the base of the 10-inch is in worse shape.\r\n",
    "- Tried to use a brand new power cord and the port still doesn't work, so as of now, the 10-inch is only to be used for NON-POWERED observations\r\n",
    "- Now that the focuser is off, the image is quite good. To test the scope, I put it at the end of the inner hallway closest to bay 1 and then opened the door to the small room next to bay 4. I hung a paper on the far wall in the small room with dots that were spaced 2 ,1 .5, .4, .3, .2 and .1mm apart. The image of the .1mm is pretty good, so this one should be tested at night with a source at infinity.\r\n"
   ]
  },
  {
   "cell_type": "markdown",
   "metadata": {},
   "source": [
    "### 6-22-2021\r\n",
    "- I met Mr. Z today to get the methanol and isopropanol for the cleaning. He's a nice guy and suggested big trash bags to cover the scopes when we aren't using them instead of tarps.\r\n",
    "- I heard from Steve about my long list for facilities and we are trying to work out a meeting time to get him up here so he can see everything for himself\r\n",
    "- I got the IDL Virtual Machine working on my laptop today\r\n",
    "- Its raining today and I think I've finally found the sources of the leaks in the center of the bay doors. The angled metal brakets that support the doors on thier frames are allowing water to come through between the frame of the door and the brackets. That's why there is water on the cross-beams in the middle of the doors and not near any obvious seams. I'm thinking maybe that a sealant can be used on the outside of the seams?\r\n",
    "- I found a new power panel for the LX200 on Meade's website. It's only 300 bucks and might allow the 10-inch to be powered again, out of stock from Meade so check around. There are also telescope cover bags that Meade sells but nothing bigger than 12 inch."
   ]
  },
  {
   "cell_type": "markdown",
   "metadata": {},
   "source": [
    "### 6-23-2021\r\n",
    "- Have a meeting with Steve Gehringer today about my list of stuff that needs to be addressed up in the observatory. This is what we are talking about:\r\n",
    "    - Bay 2, 3, 4 doors rolling closed\r\n",
    "    - Water leaks\r\n",
    "    - A/C and Heat\r\n",
    "    - Bay 1, 2 out let power\r\n",
    "    - Getting keys to locks or somehow making moving around up here easier\r\n",
    "    - Adding blinds to the windows that separate the hallways\r\n",
    "\r\n",
    "- I have to check the mail room today (maybe Steve has a key to let me in) and check the ThorLabs box that is there. If it's my stuff, I can start cleaning the filters and eyepieces\r\n",
    "    - The lens cleaning tissue was there! I can start cleaning the eyepieces and filters now!\r\n",
    "- I cleaned all the filters in Box 2 and Box 6A today. Contaminants are off, but there are scratches."
   ]
  },
  {
   "cell_type": "markdown",
   "metadata": {},
   "source": [
    "### 6-24-2021\r\n",
    "- Cleaned the case of eyepieces from Box 10, it was a black orion case\r\n",
    "- I should write up a procedure for cleaning filters and eyepieces\r\n",
    "- Cleaned the silver Meade case from box 10\r\n",
    "- The finderscope on Telescope 1 is missing a bottom screw for the diagonal prism. Most likely a major source of contaminants on the prism. The hole for the screw is broken up the side of the diagonal\r\n",
    "- Cleaned the finderscopes on scopes 1 and 4. The scope on 2 is screwed in and I didn't bring my tools today, so I'll have to bring them next week to get it off "
   ]
  },
  {
   "cell_type": "markdown",
   "metadata": {},
   "source": [
    "### 6-28-2021\r\n",
    "- I cleaned a few filters that I forgot about that didn't have homes\r\n",
    "- I tried to get the sun in the 10-inch using the solar filter, but I still couldn't focus. I got it to focus fine down the hallway, but the endge of the sun never came into focus, so I have to keep trying it. I need to bring sunscreen and a hat if I'm going to keep doing solar observations\r\n",
    "- I'm going to start testing all the scopes for real now that eyepieces and whatnot are cleaned, so I have to see how I can get into Pfahler after regular business hours since the real testing has to be at night\r\n"
   ]
  },
  {
   "cell_type": "markdown",
   "metadata": {},
   "source": [
    "### Testing The Scopes\r\n",
    "- Check the focus on each scope\r\n",
    "- Check the image quality of each scope\r\n",
    "- Test the CCD Cameras using the old laptops\r\n",
    "    - I've done some reading and it looks like we are going to need to do exposures that are longer than I expected. I expected a second or something sine it's magified, but it's talking about minute long exposures and I saw other things saying 1200 seconds or more! I guess those vibration pads might come in handy after all\r\n",
    "- Test the vibration sensitivity of the scopes\r\n",
    "    - Dr. Nagy had noted something about vibration problems in one of the bays, so maybe that's actually a thing if we aren't doing just a few seconds."
   ]
  },
  {
   "cell_type": "markdown",
   "metadata": {},
   "source": [
    "### Ideas for labs\r\n",
    "- Intro:\r\n",
    "    - Spectral lines of different types of light sources\r\n",
    "    - How to align a telescope\r\n",
    "    - Anatomy of different kinds of telescopes\r\n",
    "\r\n",
    "- Advanced:\r\n",
    "    - Add a module to the GDL master file after writing it in a separate file\r\n",
    "    - Take pictures of Tycho crater and other craters relevant to Kassie's work\r\n",
    "    - Use a photometer to read and verify stellar magnitudes (nighttime collection and in-class analysis)"
   ]
  },
  {
   "cell_type": "markdown",
   "metadata": {},
   "source": [
    "## Ackowledgements\r\n",
    "\r\n",
    "- Professor Kassie Martin-Wells for guidence, encouragement and support\r\n",
    "- Professor Ross Martin-Wells for guidence, encouragement and suuport\r\n",
    "- Matt Zrada for helping with cleaning supplies\r\n",
    "- Professor Tom Carroll for help with cleaning supplies\r\n",
    "- Evaline Miller from Information Technology for help with the laptops\r\n",
    "- Joe Trump from Information Technology for help with the laptops\r\n",
    "- Steve Gehringer from Facilities for helping straighten out the issues with the facility itself\r\n",
    "- Randy Markley from Facilities for helping with keys\r\n",
    "- Peter Chapman for help wth coding questions\r\n",
    "\r\n"
   ]
  },
  {
   "cell_type": "markdown",
   "metadata": {},
   "source": []
  }
 ],
 "metadata": {
  "interpreter": {
   "hash": "6adbc99df7d70ca611f8c73e6089356e1d6fe46f34a2b42eb217058b1f872996"
  },
  "kernelspec": {
   "display_name": "Python 3.8.8 64-bit ('base': conda)",
   "name": "python3"
  },
  "language_info": {
   "name": "python",
   "version": ""
  }
 },
 "nbformat": 4,
 "nbformat_minor": 4
}